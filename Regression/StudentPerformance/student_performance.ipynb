{
  "nbformat": 4,
  "nbformat_minor": 0,
  "metadata": {
    "colab": {
      "name": "student_performance.ipynb",
      "provenance": [],
      "collapsed_sections": []
    },
    "kernelspec": {
      "name": "python3",
      "display_name": "Python 3"
    }
  },
  "cells": [
    {
      "cell_type": "code",
      "metadata": {
        "id": "vsjZ8yGjkA7T",
        "colab_type": "code",
        "colab": {}
      },
      "source": [
        "import numpy as np\n",
        "import pandas as pd\n",
        "import matplotlib.pyplot as plt"
      ],
      "execution_count": 0,
      "outputs": []
    },
    {
      "cell_type": "code",
      "metadata": {
        "id": "UWHroEGDkCLo",
        "colab_type": "code",
        "outputId": "7e612e69-52d1-4618-d1cb-abe0fab72408",
        "colab": {
          "base_uri": "https://localhost:8080/",
          "height": 151
        }
      },
      "source": [
        "dataset=pd.read_csv(\"student-mat.csv\",sep=\";\")\n",
        "print(dataset.head())"
      ],
      "execution_count": 4,
      "outputs": [
        {
          "output_type": "stream",
          "text": [
            "  school sex  age address famsize Pstatus  ...  Walc  health absences  G1  G2  G3\n",
            "0     GP   F   18       U     GT3       A  ...     1       3        6   5   6   6\n",
            "1     GP   F   17       U     GT3       T  ...     1       3        4   5   5   6\n",
            "2     GP   F   15       U     LE3       T  ...     3       3       10   7   8  10\n",
            "3     GP   F   15       U     GT3       T  ...     1       5        2  15  14  15\n",
            "4     GP   F   16       U     GT3       T  ...     2       5        4   6  10  10\n",
            "\n",
            "[5 rows x 33 columns]\n"
          ],
          "name": "stdout"
        }
      ]
    },
    {
      "cell_type": "code",
      "metadata": {
        "id": "lzMw5DtIkfbN",
        "colab_type": "code",
        "outputId": "606c8373-75bd-4e26-b662-f27e4f23c7d4",
        "colab": {
          "base_uri": "https://localhost:8080/",
          "height": 118
        }
      },
      "source": [
        "dataset=dataset[[\"G1\",\"G2\",\"G3\",\"studytime\",\"failures\",\"absences\"]]\n",
        "print(dataset.head())"
      ],
      "execution_count": 5,
      "outputs": [
        {
          "output_type": "stream",
          "text": [
            "   G1  G2  G3  studytime  failures  absences\n",
            "0   5   6   6          2         0         6\n",
            "1   5   5   6          2         0         4\n",
            "2   7   8  10          2         3        10\n",
            "3  15  14  15          3         0         2\n",
            "4   6  10  10          2         0         4\n"
          ],
          "name": "stdout"
        }
      ]
    },
    {
      "cell_type": "code",
      "metadata": {
        "id": "gBmC44UjlKyc",
        "colab_type": "code",
        "colab": {}
      },
      "source": [
        "predict=\"G3\"\n",
        "x=np.array(dataset.drop([predict],1))\n",
        "y=np.array(dataset[predict])"
      ],
      "execution_count": 0,
      "outputs": []
    },
    {
      "cell_type": "code",
      "metadata": {
        "id": "CEumzAxSlLJA",
        "colab_type": "code",
        "colab": {}
      },
      "source": [
        "from sklearn.model_selection import train_test_split\n",
        "xtrain,xtest,ytrain,ytest=train_test_split(x,y,test_size=0.1)"
      ],
      "execution_count": 0,
      "outputs": []
    },
    {
      "cell_type": "code",
      "metadata": {
        "id": "KDSOEVGll7i1",
        "colab_type": "code",
        "outputId": "7d6fe638-0585-4aa0-a9d7-94c967e27f32",
        "colab": {
          "base_uri": "https://localhost:8080/",
          "height": 34
        }
      },
      "source": [
        "from sklearn.linear_model import LinearRegression\n",
        "regressor=LinearRegression()\n",
        "regressor.fit(xtrain,ytrain)\n",
        "acc=regressor.score(xtest,ytest)\n",
        "print(acc)"
      ],
      "execution_count": 8,
      "outputs": [
        {
          "output_type": "stream",
          "text": [
            "0.8663440776465183\n"
          ],
          "name": "stdout"
        }
      ]
    },
    {
      "cell_type": "code",
      "metadata": {
        "id": "38MU_8KDm3ao",
        "colab_type": "code",
        "colab": {
          "base_uri": "https://localhost:8080/",
          "height": 84
        },
        "outputId": "362d1481-75cc-4aee-a031-cfd131c96990"
      },
      "source": [
        "print('Coefficients: \\n',regressor.coef_)\n",
        "print('Intercept: \\n',regressor.intercept_)"
      ],
      "execution_count": 9,
      "outputs": [
        {
          "output_type": "stream",
          "text": [
            "Coefficients: \n",
            " [ 0.15481238  0.97730272 -0.1991468  -0.25084519  0.03766551]\n",
            "Intercept: \n",
            " -1.4712976117779402\n"
          ],
          "name": "stdout"
        }
      ]
    },
    {
      "cell_type": "code",
      "metadata": {
        "id": "KGKEE6SgOE7X",
        "colab_type": "code",
        "colab": {
          "base_uri": "https://localhost:8080/",
          "height": 689
        },
        "outputId": "9302a845-c53a-4506-94bd-1705c061225d"
      },
      "source": [
        "#printing the predicted and the actual value\n",
        "ypred=regressor.predict(xtest)\n",
        "for x in range (len(ypred)):\n",
        "  print(ypred[x],\" \",ytest[x])"
      ],
      "execution_count": 10,
      "outputs": [
        {
          "output_type": "stream",
          "text": [
            "8.239963288831328   10\n",
            "10.504193479358685   12\n",
            "11.035660940485062   11\n",
            "14.767363530849918   15\n",
            "9.836515512476705   11\n",
            "9.602221777222068   11\n",
            "9.544223204314065   8\n",
            "12.77872485600252   13\n",
            "12.60027346537667   12\n",
            "12.768423669886042   12\n",
            "-0.7859045765237433   0\n",
            "8.009819895704268   8\n",
            "15.112135219540805   15\n",
            "11.69508813754444   12\n",
            "10.493792869269832   11\n",
            "14.01101671858597   15\n",
            "8.350441242267577   9\n",
            "17.22155303394093   17\n",
            "11.93763264262168   13\n",
            "11.925237918684463   13\n",
            "13.503188271958214   13\n",
            "12.823059278693504   12\n",
            "10.734336872485748   11\n",
            "12.604423807504245   14\n",
            "10.893299590740558   10\n",
            "16.439246771495128   15\n",
            "7.488653620694368   6\n",
            "12.733276733449623   14\n",
            "8.537130626690104   10\n",
            "10.968630607740385   11\n",
            "7.71879701382143   8\n",
            "8.033452522189922   8\n",
            "13.980020124277127   14\n",
            "7.091296739489897   0\n",
            "14.329828957095003   14\n",
            "18.075039971258988   18\n",
            "15.032653860413403   15\n",
            "4.242970368902988   5\n",
            "17.86601702056705   17\n",
            "12.835510305076236   13\n"
          ],
          "name": "stdout"
        }
      ]
    }
  ]
}