{
  "nbformat": 4,
  "nbformat_minor": 0,
  "metadata": {
    "colab": {
      "name": "wine_dataset.ipynb",
      "provenance": [],
      "toc_visible": true
    },
    "kernelspec": {
      "name": "python3",
      "display_name": "Python 3"
    }
  },
  "cells": [
    {
      "cell_type": "markdown",
      "metadata": {
        "id": "MSszploV8gHS",
        "colab_type": "text"
      },
      "source": [
        "# Wine Data Set\n"
      ]
    },
    {
      "cell_type": "code",
      "metadata": {
        "id": "U5S-u0Ig8cZT",
        "colab_type": "code",
        "colab": {}
      },
      "source": [
        "# importing the libraries\n",
        "\n",
        "import pandas as pd\n",
        "import numpy as np\n",
        "import seaborn as sns\n",
        "import matplotlib.pyplot as plt"
      ],
      "execution_count": 0,
      "outputs": []
    },
    {
      "cell_type": "code",
      "metadata": {
        "id": "kiCtHlK69A8r",
        "colab_type": "code",
        "colab": {}
      },
      "source": [
        "# importing the dataset\n",
        "\n",
        "wine = pd.read_csv(\"wine.csv\")"
      ],
      "execution_count": 0,
      "outputs": []
    },
    {
      "cell_type": "code",
      "metadata": {
        "id": "d4bkBiRB9RQu",
        "colab_type": "code",
        "outputId": "8c940888-cf15-4b09-e990-1e304e24214c",
        "colab": {
          "base_uri": "https://localhost:8080/",
          "height": 151
        }
      },
      "source": [
        "# top five elements of the dataset\n",
        "\n",
        "print(wine.head())"
      ],
      "execution_count": 31,
      "outputs": [
        {
          "output_type": "stream",
          "text": [
            "   class  alcohol  malic_acid  ...   hue  OD280/OD315  proline\n",
            "0      1    14.23        1.71  ...  1.04         3.92     1065\n",
            "1      1    13.20        1.78  ...  1.05         3.40     1050\n",
            "2      1    13.16        2.36  ...  1.03         3.17     1185\n",
            "3      1    14.37        1.95  ...  0.86         3.45     1480\n",
            "4      1    13.24        2.59  ...  1.04         2.93      735\n",
            "\n",
            "[5 rows x 14 columns]\n"
          ],
          "name": "stdout"
        }
      ]
    },
    {
      "cell_type": "code",
      "metadata": {
        "id": "m474B4nq9tyO",
        "colab_type": "code",
        "outputId": "44b868c2-0231-47fe-c848-92923bb1f21e",
        "colab": {
          "base_uri": "https://localhost:8080/",
          "height": 34
        }
      },
      "source": [
        "# data-points and features\n",
        "\n",
        "print(wine.shape)"
      ],
      "execution_count": 32,
      "outputs": [
        {
          "output_type": "stream",
          "text": [
            "(178, 14)\n"
          ],
          "name": "stdout"
        }
      ]
    },
    {
      "cell_type": "code",
      "metadata": {
        "id": "3OYa09W_EM6P",
        "colab_type": "code",
        "colab": {
          "base_uri": "https://localhost:8080/",
          "height": 84
        },
        "outputId": "c585e5e5-fd1d-4f20-eeb9-1f65de463aec"
      },
      "source": [
        "# columns in the dataset\n",
        "\n",
        "print(wine.columns)"
      ],
      "execution_count": 33,
      "outputs": [
        {
          "output_type": "stream",
          "text": [
            "Index(['class', 'alcohol', 'malic_acid', 'ash', 'alcalinity_of_ash',\n",
            "       'magnesium', 'phenols', 'flavonoids', 'non_flavonoids_phenols',\n",
            "       'proanthocyanins', 'color_intensity', 'hue', 'OD280/OD315', 'proline'],\n",
            "      dtype='object')\n"
          ],
          "name": "stdout"
        }
      ]
    },
    {
      "cell_type": "code",
      "metadata": {
        "id": "EUDwd5yVG8vV",
        "colab_type": "code",
        "colab": {
          "base_uri": "https://localhost:8080/",
          "height": 84
        },
        "outputId": "8e7480a9-5bb4-4faa-bf3b-50ba95ef673c"
      },
      "source": [
        "# calculating the value of individual alcohol\n",
        "\n",
        "wine[\"class\"].value_counts()"
      ],
      "execution_count": 34,
      "outputs": [
        {
          "output_type": "execute_result",
          "data": {
            "text/plain": [
              "2    71\n",
              "1    59\n",
              "3    48\n",
              "Name: class, dtype: int64"
            ]
          },
          "metadata": {
            "tags": []
          },
          "execution_count": 34
        }
      ]
    },
    {
      "cell_type": "markdown",
      "metadata": {
        "id": "KCBYTOZGHa9F",
        "colab_type": "text"
      },
      "source": [
        "## Wine Data Set is not balanced !!!"
      ]
    },
    {
      "cell_type": "markdown",
      "metadata": {
        "id": "pOX2oq2SHpC-",
        "colab_type": "text"
      },
      "source": [
        "# Splitting Datasets"
      ]
    },
    {
      "cell_type": "code",
      "metadata": {
        "id": "7nrDHzAhHU_x",
        "colab_type": "code",
        "colab": {}
      },
      "source": [
        "from sklearn.utils import shuffle\n",
        "x=wine.iloc[:,1:]\n",
        "y=wine.iloc[:,0]\n",
        "x,y=shuffle(x,y,random_state=0)"
      ],
      "execution_count": 0,
      "outputs": []
    },
    {
      "cell_type": "code",
      "metadata": {
        "id": "59KhdiD2IPXE",
        "colab_type": "code",
        "colab": {
          "base_uri": "https://localhost:8080/",
          "height": 151
        },
        "outputId": "09567b0f-da58-45c0-abfa-cce113bd0c0b"
      },
      "source": [
        "# printing 5 elements of x\n",
        "\n",
        "print(x.head())"
      ],
      "execution_count": 36,
      "outputs": [
        {
          "output_type": "stream",
          "text": [
            "     alcohol  malic_acid   ash  ...   hue  OD280/OD315  proline\n",
            "54     13.74        1.67  2.25  ...  0.92         3.20     1060\n",
            "151    12.79        2.67  2.48  ...  0.48         1.47      480\n",
            "63     12.37        1.13  2.16  ...  1.22         2.87      420\n",
            "55     13.56        1.73  2.46  ...  0.98         3.03     1120\n",
            "123    13.05        5.80  2.13  ...  0.73         3.10      380\n",
            "\n",
            "[5 rows x 13 columns]\n"
          ],
          "name": "stdout"
        }
      ]
    },
    {
      "cell_type": "code",
      "metadata": {
        "id": "XSCe8bQxIc67",
        "colab_type": "code",
        "colab": {
          "base_uri": "https://localhost:8080/",
          "height": 118
        },
        "outputId": "818b5886-272d-4a22-8cd8-99c4424d4d4b"
      },
      "source": [
        "# printing 5 elements of y\n",
        "\n",
        "print(y.head())"
      ],
      "execution_count": 37,
      "outputs": [
        {
          "output_type": "stream",
          "text": [
            "54     1\n",
            "151    3\n",
            "63     2\n",
            "55     1\n",
            "123    2\n",
            "Name: class, dtype: int64\n"
          ],
          "name": "stdout"
        }
      ]
    },
    {
      "cell_type": "markdown",
      "metadata": {
        "id": "W7sC82e0Ipug",
        "colab_type": "text"
      },
      "source": [
        "# Splitting dataset int train and test set"
      ]
    },
    {
      "cell_type": "code",
      "metadata": {
        "id": "wzpm2YRaIu_E",
        "colab_type": "code",
        "colab": {}
      },
      "source": [
        "from sklearn.model_selection import train_test_split\n",
        "xtrain,xtest,ytrain,ytest = train_test_split(x,y,train_size=0.2,random_state=42)"
      ],
      "execution_count": 0,
      "outputs": []
    },
    {
      "cell_type": "markdown",
      "metadata": {
        "id": "sbckcR_xI1Zw",
        "colab_type": "text"
      },
      "source": [
        "# Applying the classification model"
      ]
    },
    {
      "cell_type": "code",
      "metadata": {
        "id": "QP4MknuXIxUl",
        "colab_type": "code",
        "colab": {}
      },
      "source": [
        "from sklearn.ensemble import RandomForestClassifier\n",
        "classifier = RandomForestClassifier()\n",
        "classifier.fit(xtrain,ytrain)"
      ],
      "execution_count": 0,
      "outputs": []
    },
    {
      "cell_type": "code",
      "metadata": {
        "id": "hNTBf7xdI0va",
        "colab_type": "code",
        "colab": {}
      },
      "source": [
        "# predicted value\n",
        "\n",
        "ypred = classifier.predict(xtest)"
      ],
      "execution_count": 0,
      "outputs": []
    },
    {
      "cell_type": "code",
      "metadata": {
        "id": "EgdCzgefJnwf",
        "colab_type": "code",
        "colab": {
          "base_uri": "https://localhost:8080/",
          "height": 34
        },
        "outputId": "cfe66516-60f6-49c7-a346-a9740ea1737e"
      },
      "source": [
        "# calculating the accuracy\n",
        "\n",
        "from sklearn.metrics import accuracy_score\n",
        "acc = accuracy_score(ypred,ytest)\n",
        "print(acc*100)"
      ],
      "execution_count": 41,
      "outputs": [
        {
          "output_type": "stream",
          "text": [
            "95.1048951048951\n"
          ],
          "name": "stdout"
        }
      ]
    }
  ]
}