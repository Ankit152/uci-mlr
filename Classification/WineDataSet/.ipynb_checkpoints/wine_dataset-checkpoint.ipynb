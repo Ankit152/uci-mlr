{
 "cells": [
  {
   "cell_type": "markdown",
   "metadata": {
    "colab_type": "text",
    "id": "MSszploV8gHS"
   },
   "source": [
    "# Wine Data Set\n"
   ]
  },
  {
   "cell_type": "code",
   "execution_count": 1,
   "metadata": {
    "colab": {},
    "colab_type": "code",
    "id": "U5S-u0Ig8cZT"
   },
   "outputs": [],
   "source": [
    "# importing the libraries\n",
    "import pandas as pd\n",
    "import numpy as np\n",
    "import seaborn as sns\n",
    "import matplotlib.pyplot as plt"
   ]
  },
  {
   "cell_type": "code",
   "execution_count": 2,
   "metadata": {
    "colab": {},
    "colab_type": "code",
    "id": "kiCtHlK69A8r"
   },
   "outputs": [],
   "source": [
    "# importing the dataset\n",
    "wine = pd.read_csv(\"wine.csv\")"
   ]
  },
  {
   "cell_type": "code",
   "execution_count": 3,
   "metadata": {
    "colab": {
     "base_uri": "https://localhost:8080/",
     "height": 151
    },
    "colab_type": "code",
    "id": "d4bkBiRB9RQu",
    "outputId": "136d38c6-31d4-4d2f-ddd8-ee3cd958b80b"
   },
   "outputs": [
    {
     "name": "stdout",
     "output_type": "stream",
     "text": [
      "   class  alcohol  malic_acid   ash  alcalinity_of_ash  magnesium  phenols  \\\n",
      "0      1    14.23        1.71  2.43               15.6        127     2.80   \n",
      "1      1    13.20        1.78  2.14               11.2        100     2.65   \n",
      "2      1    13.16        2.36  2.67               18.6        101     2.80   \n",
      "3      1    14.37        1.95  2.50               16.8        113     3.85   \n",
      "4      1    13.24        2.59  2.87               21.0        118     2.80   \n",
      "\n",
      "   flavonoids  non_flavonoids_phenols  proanthocyanins  color_intensity   hue  \\\n",
      "0        3.06                    0.28             2.29             5.64  1.04   \n",
      "1        2.76                    0.26             1.28             4.38  1.05   \n",
      "2        3.24                    0.30             2.81             5.68  1.03   \n",
      "3        3.49                    0.24             2.18             7.80  0.86   \n",
      "4        2.69                    0.39             1.82             4.32  1.04   \n",
      "\n",
      "   OD280/OD315  proline  \n",
      "0         3.92     1065  \n",
      "1         3.40     1050  \n",
      "2         3.17     1185  \n",
      "3         3.45     1480  \n",
      "4         2.93      735  \n"
     ]
    }
   ],
   "source": [
    "# top five elements of the dataset\n",
    "print(wine.head())"
   ]
  },
  {
   "cell_type": "code",
   "execution_count": 4,
   "metadata": {
    "colab": {
     "base_uri": "https://localhost:8080/",
     "height": 34
    },
    "colab_type": "code",
    "id": "m474B4nq9tyO",
    "outputId": "5046dddc-04b3-4b44-da58-fc6c7db11fa8"
   },
   "outputs": [
    {
     "name": "stdout",
     "output_type": "stream",
     "text": [
      "(178, 14)\n"
     ]
    }
   ],
   "source": [
    "# data-points and features\n",
    "print(wine.shape)"
   ]
  },
  {
   "cell_type": "code",
   "execution_count": 5,
   "metadata": {
    "colab": {
     "base_uri": "https://localhost:8080/",
     "height": 84
    },
    "colab_type": "code",
    "id": "3OYa09W_EM6P",
    "outputId": "beabef01-6bc6-4949-fd54-1e9ed09788ac"
   },
   "outputs": [
    {
     "name": "stdout",
     "output_type": "stream",
     "text": [
      "Index(['class', 'alcohol', 'malic_acid', 'ash', 'alcalinity_of_ash',\n",
      "       'magnesium', 'phenols', 'flavonoids', 'non_flavonoids_phenols',\n",
      "       'proanthocyanins', 'color_intensity', 'hue', 'OD280/OD315', 'proline'],\n",
      "      dtype='object')\n"
     ]
    }
   ],
   "source": [
    "# columns in the dataset\n",
    "print(wine.columns)"
   ]
  },
  {
   "cell_type": "code",
   "execution_count": 6,
   "metadata": {
    "colab": {
     "base_uri": "https://localhost:8080/",
     "height": 84
    },
    "colab_type": "code",
    "id": "EUDwd5yVG8vV",
    "outputId": "72d7b65e-ccde-413a-8f16-8ce5753a47c2"
   },
   "outputs": [
    {
     "data": {
      "text/plain": [
       "2    71\n",
       "1    59\n",
       "3    48\n",
       "Name: class, dtype: int64"
      ]
     },
     "execution_count": 6,
     "metadata": {},
     "output_type": "execute_result"
    }
   ],
   "source": [
    "# calculating the value of individual alcohol\n",
    "wine[\"class\"].value_counts()"
   ]
  },
  {
   "cell_type": "markdown",
   "metadata": {
    "colab_type": "text",
    "id": "KCBYTOZGHa9F"
   },
   "source": [
    "**The dataset has similar distribution among the classes of wine**"
   ]
  },
  {
   "cell_type": "code",
   "execution_count": 7,
   "metadata": {},
   "outputs": [
    {
     "data": {
      "text/plain": [
       "Text(0.5, 1.0, 'Count Plot')"
      ]
     },
     "execution_count": 7,
     "metadata": {},
     "output_type": "execute_result"
    },
    {
     "data": {
      "image/png": "[encoded data removed]",
      "text/plain": [
       "<Figure size 432x288 with 1 Axes>"
      ]
     },
     "metadata": {
      "needs_background": "light"
     },
     "output_type": "display_data"
    }
   ],
   "source": [
    "sns.countplot(wine[\"class\"])\n",
    "plt.title(\"Count Plot\")"
   ]
  },
  {
   "cell_type": "markdown",
   "metadata": {
    "colab_type": "text",
    "id": "pOX2oq2SHpC-"
   },
   "source": [
    "# Splitting Datasets"
   ]
  },
  {
   "cell_type": "code",
   "execution_count": 8,
   "metadata": {
    "colab": {},
    "colab_type": "code",
    "id": "7nrDHzAhHU_x"
   },
   "outputs": [],
   "source": [
    "from sklearn.utils import shuffle\n",
    "x=wine.iloc[:,1:]\n",
    "y=wine.iloc[:,0]\n",
    "x,y=shuffle(x,y,random_state=0)"
   ]
  },
  {
   "cell_type": "code",
   "execution_count": 9,
   "metadata": {
    "colab": {
     "base_uri": "https://localhost:8080/",
     "height": 151
    },
    "colab_type": "code",
    "id": "59KhdiD2IPXE",
    "outputId": "74bb93bc-9e50-452e-e8b3-ca55b3f90d97"
   },
   "outputs": [
    {
     "name": "stdout",
     "output_type": "stream",
     "text": [
      "     alcohol  malic_acid   ash  alcalinity_of_ash  magnesium  phenols  \\\n",
      "54     13.74        1.67  2.25               16.4        118     2.60   \n",
      "151    12.79        2.67  2.48               22.0        112     1.48   \n",
      "63     12.37        1.13  2.16               19.0         87     3.50   \n",
      "55     13.56        1.73  2.46               20.5        116     2.96   \n",
      "123    13.05        5.80  2.13               21.5         86     2.62   \n",
      "\n",
      "     flavonoids  non_flavonoids_phenols  proanthocyanins  color_intensity  \\\n",
      "54         2.90                    0.21             1.62             5.85   \n",
      "151        1.36                    0.24             1.26            10.80   \n",
      "63         3.10                    0.19             1.87             4.45   \n",
      "55         2.78                    0.20             2.45             6.25   \n",
      "123        2.65                    0.30             2.01             2.60   \n",
      "\n",
      "      hue  OD280/OD315  proline  \n",
      "54   0.92         3.20     1060  \n",
      "151  0.48         1.47      480  \n",
      "63   1.22         2.87      420  \n",
      "55   0.98         3.03     1120  \n",
      "123  0.73         3.10      380  \n"
     ]
    }
   ],
   "source": [
    "# printing 5 elements of x\n",
    "print(x.head())"
   ]
  },
  {
   "cell_type": "code",
   "execution_count": 10,
   "metadata": {
    "colab": {
     "base_uri": "https://localhost:8080/",
     "height": 118
    },
    "colab_type": "code",
    "id": "XSCe8bQxIc67",
    "outputId": "10697e9a-577d-405d-9359-f4ed6aa0cf74"
   },
   "outputs": [
    {
     "name": "stdout",
     "output_type": "stream",
     "text": [
      "54     1\n",
      "151    3\n",
      "63     2\n",
      "55     1\n",
      "123    2\n",
      "Name: class, dtype: int64\n"
     ]
    }
   ],
   "source": [
    "# printing 5 elements of y\n",
    "print(y.head())"
   ]
  },
  {
   "cell_type": "markdown",
   "metadata": {
    "colab_type": "text",
    "id": "W7sC82e0Ipug"
   },
   "source": [
    "# Splitting dataset int train and test set"
   ]
  },
  {
   "cell_type": "code",
   "execution_count": 15,
   "metadata": {
    "colab": {},
    "colab_type": "code",
    "id": "wzpm2YRaIu_E"
   },
   "outputs": [],
   "source": [
    "from sklearn.model_selection import train_test_split\n",
    "xtrain,xtest,ytrain,ytest = train_test_split(x,y,train_size=0.2)"
   ]
  },
  {
   "cell_type": "markdown",
   "metadata": {
    "colab_type": "text",
    "id": "sbckcR_xI1Zw"
   },
   "source": [
    "# Applying the classification model"
   ]
  },
  {
   "cell_type": "code",
   "execution_count": 16,
   "metadata": {
    "colab": {},
    "colab_type": "code",
    "id": "QP4MknuXIxUl"
   },
   "outputs": [
    {
     "name": "stdout",
     "output_type": "stream",
     "text": [
      "Fitting 3 folds for each of 500 candidates, totalling 1500 fits\n"
     ]
    },
    {
     "name": "stderr",
     "output_type": "stream",
     "text": [
      "[Parallel(n_jobs=-1)]: Using backend LokyBackend with 8 concurrent workers.\n",
      "[Parallel(n_jobs=-1)]: Done  34 tasks      | elapsed:    6.0s\n",
      "[Parallel(n_jobs=-1)]: Done 184 tasks      | elapsed:   24.5s\n",
      "[Parallel(n_jobs=-1)]: Done 434 tasks      | elapsed:   56.1s\n",
      "[Parallel(n_jobs=-1)]: Done 784 tasks      | elapsed:  1.8min\n",
      "[Parallel(n_jobs=-1)]: Done 1234 tasks      | elapsed:  2.9min\n",
      "[Parallel(n_jobs=-1)]: Done 1500 out of 1500 | elapsed:  3.6min finished\n"
     ]
    }
   ],
   "source": [
    "from sklearn.ensemble import RandomForestClassifier\n",
    "from sklearn.model_selection import GridSearchCV\n",
    "n_estimators = [100, 300, 500, 800, 1200]\n",
    "max_depth = [5, 8, 15, 25, 30]\n",
    "min_samples_split = [2, 5, 10, 15, 100]\n",
    "min_samples_leaf = [1, 2, 5, 10] \n",
    "\n",
    "forest=RandomForestClassifier()\n",
    "hyperF = dict(n_estimators = n_estimators, max_depth = max_depth,  \n",
    "              min_samples_split = min_samples_split, \n",
    "             min_samples_leaf = min_samples_leaf)\n",
    "\n",
    "gridF = GridSearchCV(forest, hyperF, cv = 3, verbose = 1, \n",
    "                      n_jobs = -1)\n",
    "bestF = gridF.fit(xtrain, ytrain)"
   ]
  },
  {
   "cell_type": "code",
   "execution_count": 17,
   "metadata": {
    "colab": {},
    "colab_type": "code",
    "id": "hNTBf7xdI0va"
   },
   "outputs": [],
   "source": [
    "# predicted value\n",
    "ypred = bestF.predict(xtest)"
   ]
  },
  {
   "cell_type": "code",
   "execution_count": 18,
   "metadata": {
    "colab": {
     "base_uri": "https://localhost:8080/",
     "height": 34
    },
    "colab_type": "code",
    "id": "EgdCzgefJnwf",
    "outputId": "f76f2654-6454-4788-a47d-b473b58031b4"
   },
   "outputs": [
    {
     "name": "stdout",
     "output_type": "stream",
     "text": [
      "94.4055944055944\n"
     ]
    }
   ],
   "source": [
    "# calculating the accuracy\n",
    "from sklearn.metrics import accuracy_score\n",
    "acc = accuracy_score(ypred,ytest)\n",
    "print(acc*100)"
   ]
  },
  {
   "cell_type": "code",
   "execution_count": null,
   "metadata": {},
   "outputs": [],
   "source": []
  }
 ],
 "metadata": {
  "colab": {
   "name": "wine_dataset.ipynb",
   "provenance": [],
   "toc_visible": true
  },
  "kernelspec": {
   "display_name": "Python 3",
   "language": "python",
   "name": "python3"
  },
  "language_info": {
   "codemirror_mode": {
    "name": "ipython",
    "version": 3
   },
   "file_extension": ".py",
   "mimetype": "text/x-python",
   "name": "python",
   "nbconvert_exporter": "python",
   "pygments_lexer": "ipython3",
   "version": "3.7.6"
  }
 },
 "nbformat": 4,
 "nbformat_minor": 1
}
